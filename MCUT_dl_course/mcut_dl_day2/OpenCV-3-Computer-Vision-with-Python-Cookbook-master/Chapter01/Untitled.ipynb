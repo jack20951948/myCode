{
 "cells": [
  {
   "cell_type": "code",
   "execution_count": 1,
   "metadata": {},
   "outputs": [
    {
     "name": "stderr",
     "output_type": "stream",
     "text": [
      "usage: ipykernel_launcher.py [-h] [--path PATH]\n",
      "ipykernel_launcher.py: error: unrecognized arguments: -f C:\\Users\\redzh\\AppData\\Roaming\\jupyter\\runtime\\kernel-6d849f09-5283-4d3c-92a0-bb2908161006.json\n"
     ]
    },
    {
     "ename": "SystemExit",
     "evalue": "2",
     "output_type": "error",
     "traceback": [
      "An exception has occurred, use %tb to see the full traceback.\n",
      "\u001b[1;31mSystemExit\u001b[0m\u001b[1;31m:\u001b[0m 2\n"
     ]
    },
    {
     "name": "stderr",
     "output_type": "stream",
     "text": [
      "C:\\Users\\redzh\\.conda\\envs\\OpenCV\\lib\\site-packages\\IPython\\core\\interactiveshell.py:3333: UserWarning: To exit: use 'exit', 'quit', or Ctrl-D.\n",
      "  warn(\"To exit: use 'exit', 'quit', or Ctrl-D.\", stacklevel=1)\n"
     ]
    }
   ],
   "source": [
    "import argparse\n",
    "\n",
    "import cv2\n",
    "\n",
    "parser = argparse.ArgumentParser()\n",
    "parser.add_argument('--path', default='../data/Lena.png', help='Image path.')\n",
    "params = parser.parse_args()\n",
    "\n",
    "img = cv2.imread(params.path)\n",
    "\n",
    "# Check if image was successfully read.\n",
    "assert img is not None\n",
    "\n",
    "print('read {}'.format(params.path))\n",
    "print('shape:', img.shape)\n",
    "print('dtype:', img.dtype)\n",
    "\n",
    "img = cv2.imread(params.path, cv2.IMREAD_GRAYSCALE)\n",
    "assert img is not None\n",
    "print('read {} as grayscale'.format(params.path))\n",
    "print('shape:', img.shape)\n",
    "print('dtype:', img.dtype)"
   ]
  },
  {
   "cell_type": "code",
   "execution_count": null,
   "metadata": {},
   "outputs": [],
   "source": []
  }
 ],
 "metadata": {
  "kernelspec": {
   "display_name": "Python 3",
   "language": "python",
   "name": "python3"
  },
  "language_info": {
   "codemirror_mode": {
    "name": "ipython",
    "version": 3
   },
   "file_extension": ".py",
   "mimetype": "text/x-python",
   "name": "python",
   "nbconvert_exporter": "python",
   "pygments_lexer": "ipython3",
   "version": "3.7.3"
  }
 },
 "nbformat": 4,
 "nbformat_minor": 2
}
